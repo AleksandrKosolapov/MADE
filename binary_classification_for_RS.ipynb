{
 "cells": [
  {
   "cell_type": "code",
   "execution_count": 1,
   "metadata": {},
   "outputs": [
    {
     "data": {
      "text/html": [
       "<style>.container { width:80% !important; }</style>"
      ],
      "text/plain": [
       "<IPython.core.display.HTML object>"
      ]
     },
     "metadata": {},
     "output_type": "display_data"
    }
   ],
   "source": [
    "import numpy as np\n",
    "import pandas as pd\n",
    "from sklearn.metrics import roc_auc_score\n",
    "import statistics\n",
    "from IPython.core.display import display, HTML\n",
    "display(HTML(\"<style>.container { width:80% !important; }</style>\"))\n",
    "import gc"
   ]
  },
  {
   "cell_type": "markdown",
   "metadata": {},
   "source": [
    "### load data"
   ]
  },
  {
   "cell_type": "code",
   "execution_count": 45,
   "metadata": {},
   "outputs": [],
   "source": [
    "df = pd.read_pickle('train4')[:200000]\n",
    "test = pd.read_pickle('test4')"
   ]
  },
  {
   "cell_type": "markdown",
   "metadata": {},
   "source": [
    "### simple features"
   ]
  },
  {
   "cell_type": "code",
   "execution_count": null,
   "metadata": {},
   "outputs": [],
   "source": [
    "df['CG1div'],df['CG2div'],df['CG3div'] = 0,0,0\n",
    "test['CG1div'],test['CG2div'],test['CG3div'] = 0,0,0\n",
    "\n",
    "for col in ['CG1','CG2','CG3']: #df[col] = df[col].str.split(',')\n",
    "    df['{}len'.format(col)] = df[col].str.count(\",\") + 1\n",
    "    df['{}max'.format(col)] = df[col].apply(lambda x: max(map(int, x.split(','))))\n",
    "    df['{}min'.format(col)] = df[col].apply(lambda x: min(map(int, x.split(','))))\n",
    "    df['{}sum'.format(col)] = df[col].apply(lambda x: sum(map(int, x.split(','))))\n",
    "    df['{}mean'.format(col)] = df['{}sum'.format(col)]/df['{}len'.format(col)]\n",
    "    df['{}maxmindelta'.format(col)] = df['{}max'.format(col)] - df['{}min'.format(col)]\n",
    "    df['{}unique'.format(col)] = df[col].apply(lambda x: len(set(map(int, x.split(',')))))\n",
    "    df['{}ratio'.format(col)] = df['{}unique'.format(col)]/df['{}len'.format(col)]\n",
    "    \n",
    "    test['{}len'.format(col)] = test[col].str.count(\",\") + 1\n",
    "    test['{}max'.format(col)] = test[col].apply(lambda x: max(map(int, x.split(','))))\n",
    "    test['{}min'.format(col)] = test[col].apply(lambda x: min(map(int, x.split(','))))\n",
    "    test['{}sum'.format(col)] = test[col].apply(lambda x: sum(map(int, x.split(','))))\n",
    "    test['{}mean'.format(col)] = test['{}sum'.format(col)]/test['{}len'.format(col)]\n",
    "    test['{}maxmindelta'.format(col)] = test['{}max'.format(col)] - test['{}min'.format(col)]\n",
    "    test['{}unique'.format(col)] = test[col].apply(lambda x: len(set(map(int, x.split(',')))))\n",
    "    test['{}ratio'.format(col)] = test['{}unique'.format(col)]/test['{}len'.format(col)]\n",
    "    \n",
    "    print(col)\n",
    "    \n",
    "div = df[['CG1len','CG2len','CG3len']].div(df[['CG1len','CG2len','CG3len']].sum(axis=1), axis=0)\n",
    "div2 = test[['CG1len','CG2len','CG3len']].div(test[['CG1len','CG2len','CG3len']].sum(axis=1), axis=0)\n",
    "\n",
    "df['CG1div'],df['CG2div'],df['CG3div'] = div['CG1len'],div['CG2len'],div['CG3len']\n",
    "test['CG1div'],test['CG2div'],test['CG3div'] = div2['CG1len'],div2['CG2len'],div2['CG3len']\n",
    "\n",
    "for col in ['CG1']: #df[col] = df[col].str.split(',')\n",
    "    df['{}std'.format(col)] = 0\n",
    "    df.loc[df['{}len'.format(col)]>1,'{}std'.format(col)] = df.loc[df['{}len'.format(col)]>1,col].apply(lambda x: statistics.stdev(map(int, x.split(','))))\n",
    "    test['{}std'.format(col)] = 0\n",
    "    test.loc[test['{}len'.format(col)]>1,'{}std'.format(col)] = test.loc[test['{}len'.format(col)]>1,col].apply(lambda x: statistics.stdev(map(int, x.split(','))))\n",
    "    print('done')"
   ]
  },
  {
   "cell_type": "markdown",
   "metadata": {},
   "source": [
    "### extended statictics for CG*"
   ]
  },
  {
   "cell_type": "code",
   "execution_count": null,
   "metadata": {},
   "outputs": [],
   "source": [
    "for col in ['CG1']: #df[col] = df[col].str.split(',')\n",
    "    for d in [df,test]:\n",
    "        d['{}harmonic_mean'.format(col)] = 0\n",
    "        d.loc[d['{}len'.format(col)]>1,'{}harmonic_mean'.format(col)] = d.loc[d['{}len'.format(col)]>1,col].apply(lambda x: statistics.harmonic_mean(map(int, x.split(','))))\n",
    "        d['{}median'.format(col)] = 0\n",
    "        d.loc[d['{}len'.format(col)]>1,'{}median'.format(col)] = d.loc[d['{}len'.format(col)]>1,col].apply(lambda x: statistics.median(map(int, x.split(','))))\n",
    "        d['{}median_low'.format(col)] = 0\n",
    "        d.loc[d['{}len'.format(col)]>1,'{}median_low'.format(col)] = d.loc[d['{}len'.format(col)]>1,col].apply(lambda x: statistics.median_low(map(int, x.split(','))))\n",
    "        d['{}median_high'.format(col)] = 0\n",
    "        d.loc[d['{}len'.format(col)]>1,'{}median_high'.format(col)] = d.loc[d['{}len'.format(col)]>1,col].apply(lambda x: statistics.median_high(map(int, x.split(','))))\n",
    "        d['{}median_grouped'.format(col)] = 0\n",
    "        d.loc[d['{}len'.format(col)]>1,'{}median_grouped'.format(col)] = d.loc[d['{}len'.format(col)]>1,col].apply(lambda x: statistics.median_grouped(map(int, x.split(','))))"
   ]
  },
  {
   "cell_type": "code",
   "execution_count": 7,
   "metadata": {
    "scrolled": false
   },
   "outputs": [
    {
     "name": "stdout",
     "output_type": "stream",
     "text": [
      "[train,test]:\n",
      "C1 [2440, 1724] max: [0.732, 0.7065] min: [0.0, 0.0] mean: [nan, 0.002436] std: [0.0, 0.01002]\n",
      "C2 [4814, 3967] max: [0.409, 0.186] min: [0.0, 0.0] mean: [nan, 0.002996] std: [0.0, 0.00684]\n",
      "C3 [2596, 1959] max: [0.1473, 0.0789] min: [0.0, 0.0] mean: [nan, 0.002857] std: [0.0, 0.005436]\n",
      "C4 [4535, 3666] max: [0.409, 0.186] min: [0.0, 0.0] mean: [nan, 0.00296] std: [0.0, 0.00644]\n",
      "C5 [95, 87] max: [0.409, 0.02052] min: [0.0, 0.0] mean: [nan, 0.002869] std: [0.0, 0.004005]\n",
      "C6 [1291, 1237] max: [0.2932, 0.1147] min: [0.0, 0.0] mean: [nan, 0.002878] std: [0.0, 0.003275]\n",
      "C7 [3, 3] max: [0.005104, 0.005104] min: [0.002317, 0.002317] mean: [nan, 0.002493] std: [0.0, 0.0002441]\n",
      "C8 [283, 250] max: [0.999, 0.999] min: [0.0, 0.0] mean: [nan, 0.002926] std: [0.0, 0.00599]\n",
      "C9 [85, 77] max: [0.6523, 0.04758] min: [0.0, 0.0] mean: [nan, 0.002892] std: [0.0, 0.00301]\n",
      "C10 [468, 444] max: [0.2052, 0.1185] min: [0.0, 0.0] mean: [nan, 0.002573] std: [0.0, 0.0009456]\n",
      "l1 [507, 506] max: [0.03114, 0.03114] min: [0.0, 0.0] mean: [nan, 0.002459] std: [0.0, 0.001692]\n",
      "l2 [63, 30] max: [0.294, 0.1243] min: [5.85e-05, 5.85e-05] mean: [nan, 0.002542] std: [0.0, 0.001381]\n",
      "C11 [2, 2] max: [0.00841, 0.00841] min: [0.001472, 0.001472] mean: [nan, 0.002878] std: [0.0, 0.002783]\n",
      "C12 [8, 8] max: [0.00895, 0.00895] min: [0.0008755, 0.0008755] mean: [nan, 0.002544] std: [0.0, 0.0009136]\n",
      "CG1div [1006, 982] max: [1.0, 1.0] min: [0.25, 0.25] mean: [nan, nan] std: [0.0, 0.0]\n",
      "CG2div [702, 637] max: [1.0, 1.0] min: [0.007935, 0.008064] mean: [nan, 0.05927] std: [0.0, 0.053]\n",
      "CG3div [1199, 1053] max: [1.0, 1.0] min: [0.00901, 0.00971] mean: [nan, 0.2534] std: [0.0, 0.1622]\n",
      "CG1len [101, 96] max: [114.0, 105.0] min: [10.0, 10.0] mean: [nan, nan] std: [0.0, 0.0]\n",
      "CG1max [92, 75] max: [451.0, 451.0] min: [335.0, 335.0] mean: [nan, nan] std: [nan, nan]\n",
      "CG1min [86, 75] max: [139.0, 122.0] min: [0.0, 0.0] mean: [nan, nan] std: [0.0, 0.0]\n",
      "CG1sum [3460, 3202] max: [28640.0, 26190.0] min: [2024.0, 2146.0] mean: [nan, nan] std: [nan, nan]\n",
      "CG1mean [1074, 915] max: [336.0, 308.0] min: [137.2, 141.9] mean: [nan, nan] std: [nan, nan]\n",
      "CG1maxmindelta [178, 150] max: [451.0, 451.0] min: [268.0, 268.0] mean: [nan, nan] std: [nan, nan]\n",
      "CG1unique [101, 96] max: [114.0, 105.0] min: [10.0, 10.0] mean: [nan, nan] std: [0.0, 0.0]\n",
      "CG1ratio [1, 1] max: [1.0, 1.0] min: [1.0, 1.0] mean: [nan, nan] std: [0.0, 0.0]\n",
      "CG2len [10, 10] max: [10.0, 10.0] min: [1.0, 1.0] mean: [nan, nan] std: [0.0, 0.0]\n",
      "CG2max [4923, 3538] max: [33200.0, 33200.0] min: [0.0, 0.0] mean: [nan, nan] std: [nan, nan]\n",
      "CG2min [5882, 4572] max: [33200.0, 33200.0] min: [0.0, 0.0] mean: [nan, nan] std: [nan, nan]\n",
      "CG2mean [5324, 4030] max: [33200.0, 33200.0] min: [0.0, 0.0] mean: [nan, nan] std: [nan, nan]\n",
      "CG2maxmindelta [6064, 4816] max: [33200.0, 33060.0] min: [0.0, 0.0] mean: [nan, nan] std: [nan, nan]\n",
      "CG2unique [10, 10] max: [10.0, 10.0] min: [1.0, 1.0] mean: [nan, nan] std: [0.0, 0.0]\n",
      "CG2ratio [32, 32] max: [1.0, 1.0] min: [0.1, 0.1] mean: [nan, nan] std: [0.0, 0.0]\n",
      "CG3len [20, 20] max: [20.0, 20.0] min: [1.0, 1.0] mean: [nan, nan] std: [0.0, 0.0]\n",
      "CG3max [492, 398] max: [60700.0, 60700.0] min: [988.0, 3556.0] mean: [nan, nan] std: [nan, nan]\n",
      "CG3min [4832, 2264] max: [60540.0, 57340.0] min: [0.0, 1.0] mean: [nan, nan] std: [nan, nan]\n",
      "CG3mean [1569, 1282] max: [60540.0, 57340.0] min: [988.0, 3556.0] mean: [nan, nan] std: [nan, nan]\n",
      "CG3maxmindelta [2529, 1587] max: [60640.0, 60640.0] min: [0.0, 0.0] mean: [nan, nan] std: [nan, nan]\n",
      "CG3unique [20, 20] max: [20.0, 20.0] min: [1.0, 1.0] mean: [nan, nan] std: [0.0, 0.0]\n",
      "CG3ratio [2, 2] max: [1.0, 1.0] min: [0.95, 0.95] mean: [nan, nan] std: [0.0, 0.0]\n",
      "CG1std [892, 763] max: [172.1, 164.1] min: [0.0, 0.0] mean: [nan, nan] std: [0.0, 0.0]\n",
      "TF_332 [1560, 1383] max: [0.4058, 0.404] min: [0.0, 0.0] mean: [nan, nan] std: [0.0, 0.0]\n",
      "TF_335 [1571, 1381] max: [0.4055, 0.4038] min: [0.0, 0.0] mean: [nan, nan] std: [0.0, 0.0]\n",
      "TF_334 [1570, 1377] max: [0.4363, 0.404] min: [0.0, 0.0] mean: [nan, nan] std: [0.0, 0.0]\n",
      "TF_333 [1552, 1367] max: [0.4075, 0.3733] min: [0.0, 0.0] mean: [nan, nan] std: [0.0, 0.0]\n",
      "TF_139 [1530, 1355] max: [0.4424, 0.4097] min: [0.0, 0.0] mean: [nan, nan] std: [0.0, 0.0]\n",
      "TF_99 [1516, 1356] max: [0.413, 0.3562] min: [0.0, 0.0] mean: [nan, nan] std: [0.0, 0.0]\n",
      "TF_76 [1502, 1344] max: [0.411, 0.3796] min: [0.0, 0.0] mean: [nan, nan] std: [0.0, 0.0]\n",
      "TF_154 [1420, 1278] max: [0.4001, 0.4001] min: [0.0, 0.0] mean: [nan, nan] std: [0.0, 0.0]\n",
      "TF_155 [1456, 1292] max: [0.4636, 0.3484] min: [0.0, 0.0] mean: [nan, nan] std: [0.0, 0.0]\n",
      "TF_412 [1307, 1189] max: [0.3967, 0.355] min: [0.0, 0.0] mean: [nan, nan] std: [0.0, 0.0]\n",
      "TF_122 [1372, 1166] max: [0.632, 0.585] min: [0.0, 0.0] mean: [nan, nan] std: [0.0, 0.0]\n",
      "TF_59 [1360, 1187] max: [0.4722, 0.4504] min: [0.0, 0.0] mean: [nan, nan] std: [0.0, 0.0]\n",
      "TF_422 [1321, 1143] max: [0.5483, 0.4734] min: [0.0, 0.0] mean: [nan, nan] std: [0.0, 0.0]\n",
      "TF_331 [1313, 1142] max: [0.5464, 0.5205] min: [0.0, 0.0] mean: [nan, nan] std: [0.0, 0.0]\n",
      "TF_357 [1242, 1058] max: [0.597, 0.5884] min: [0.0, 0.0] mean: [nan, nan] std: [0.0, 0.0]\n",
      "TF_58 [1315, 1124] max: [0.539, 0.516] min: [0.0, 0.0] mean: [nan, nan] std: [0.0, 0.0]\n",
      "TF_276 [1162, 1017] max: [0.7656, 0.666] min: [0.0, 0.0] mean: [nan, nan] std: [0.0, 0.0]\n",
      "TF_123 [1274, 1095] max: [0.5957, 0.54] min: [0.0, 0.0] mean: [nan, nan] std: [0.0, 0.0]\n",
      "TF_96 [1331, 1122] max: [0.569, 0.5664] min: [0.0, 0.0] mean: [nan, nan] std: [0.0, 0.0]\n",
      "TF_399 [1286, 1096] max: [0.669, 0.609] min: [0.0, 0.0] mean: [nan, nan] std: [0.0, 0.0]\n",
      "TF_176 [1075, 961] max: [0.6836, 0.6396] min: [0.0, 0.0] mean: [nan, nan] std: [0.0, 0.0]\n",
      "TF_151 [1310, 1116] max: [0.5537, 0.5537] min: [0.0, 0.0] mean: [nan, nan] std: [0.0, 0.0]\n",
      "TF_273 [1238, 1006] max: [0.6055, 0.6055] min: [0.0, 0.0] mean: [nan, nan] std: [0.0, 0.0]\n",
      "TF_74 [1310, 1095] max: [0.612, 0.6113] min: [0.0, 0.0] mean: [nan, nan] std: [0.0, 0.0]\n",
      "TF_130 [1209, 1038] max: [0.5483, 0.5063] min: [0.0, 0.0] mean: [nan, nan] std: [0.0, 0.0]\n",
      "TF_275 [1133, 995] max: [0.7856, 0.66] min: [0.0, 0.0] mean: [nan, nan] std: [0.0, 0.0]\n",
      "TF_277 [1169, 1039] max: [0.769, 0.643] min: [0.0, 0.0] mean: [nan, nan] std: [0.0, 0.0]\n",
      "TF_385 [1206, 1023] max: [0.5986, 0.5273] min: [0.0, 0.0] mean: [nan, nan] std: [0.0, 0.0]\n",
      "TF_124 [1251, 1059] max: [0.6216, 0.542] min: [0.0, 0.0] mean: [nan, nan] std: [0.0, 0.0]\n",
      "TF_18 [1347, 1127] max: [0.714, 0.6084] min: [0.0, 0.0] mean: [nan, nan] std: [0.0, 0.0]\n",
      "hour [24, 9] max: [23, 23] min: [0, 0] mean: [12.151992587334501, 10.155639908291706] std: [5.397447466835537, 9.235598408042177]\n",
      "hourminute [1408, 484] max: [23.98, 23.98] min: [0.0, 0.0] mean: [nan, nan] std: [0.0, 0.0]\n"
     ]
    }
   ],
   "source": [
    "print('[train,test]:')\n",
    "for col in test.columns[1:]:\n",
    "    if df[col].dtype in [np.int8, np.int16, np.int32, np.int64, np.float64,np.float16]:\n",
    "        print(col,[df[col].nunique(),test[col].nunique()],\n",
    "              'max:',[df[col].max(),test[col].max()],'min:',[df[col].min(),test[col].min()],\n",
    "              'mean:',[df[col].mean(),test[col].mean()],'std:',[df[col].std(),test[col].std()])"
   ]
  },
  {
   "cell_type": "code",
   "execution_count": null,
   "metadata": {},
   "outputs": [],
   "source": [
    "def reduce_mem_usage(df):\n",
    "    \"\"\" iterate through all the columns of a dataframe and modify the data type\n",
    "        to reduce memory usage.        \n",
    "    \"\"\"\n",
    "    start_mem = df.memory_usage().sum() / 1024**2\n",
    "    print('Memory usage of dataframe is {:.2f} MB'.format(start_mem))\n",
    "    \n",
    "    for col in df.columns:\n",
    "        col_type = df[col].dtype\n",
    "        \n",
    "        if col_type in [np.int8, np.int16, np.int32, np.int64, np.float64,np.float32,np.float16]:\n",
    "            c_min = df[col].min()\n",
    "            c_max = df[col].max()\n",
    "            if str(col_type)[:3] == 'int':\n",
    "                if c_min > np.iinfo(np.int8).min and c_max < np.iinfo(np.int8).max:\n",
    "                    df[col] = df[col].astype(np.int8)\n",
    "                elif c_min > np.iinfo(np.int16).min and c_max < np.iinfo(np.int16).max:\n",
    "                    df[col] = df[col].astype(np.int16)\n",
    "                elif c_min > np.iinfo(np.int32).min and c_max < np.iinfo(np.int32).max:\n",
    "                    df[col] = df[col].astype(np.int32)\n",
    "                elif c_min > np.iinfo(np.int64).min and c_max < np.iinfo(np.int64).max:\n",
    "                    df[col] = df[col].astype(np.int64)  \n",
    "            else:\n",
    "                if c_min > np.finfo(np.float16).min and c_max < np.finfo(np.float16).max:\n",
    "                    df[col] = df[col].astype(np.float16)\n",
    "                elif c_min > np.finfo(np.float32).min and c_max < np.finfo(np.float32).max:\n",
    "                    df[col] = df[col].astype(np.float32)\n",
    "                else:\n",
    "                    df[col] = df[col].astype(np.float64)\n",
    "        else:\n",
    "            df[col] = df[col].astype('category')\n",
    "\n",
    "    end_mem = df.memory_usage().sum() / 1024**2\n",
    "    print('Memory usage after optimization is: {:.2f} MB'.format(end_mem))\n",
    "    print('Decreased by {:.1f}%'.format(100 * (start_mem - end_mem) / start_mem))\n",
    "    \n",
    "    return df"
   ]
  },
  {
   "cell_type": "markdown",
   "metadata": {},
   "source": [
    "### Feature extraction"
   ]
  },
  {
   "cell_type": "code",
   "execution_count": null,
   "metadata": {},
   "outputs": [],
   "source": [
    "from sklearn.feature_extraction.text import CountVectorizer\n",
    "\n",
    "for col in ['CG1','CG2','CG3']:\n",
    "\n",
    "    vect = CountVectorizer()\n",
    "    vect.fit(df[col].values.astype('U'))\n",
    "    \n",
    "    X_vect=vect.transform(df[col].values.astype('U'))\n",
    "    a = pd.DataFrame(X_vect.toarray(), columns=vect.get_feature_names(), index= df.index)\n",
    "    for column in a.columns:\n",
    "        a.rename(columns={column:'cv_{}'.format(column)}, inplace=True)\n",
    "    df = df.join(a)\n",
    "    reduce_mem_usage(df)\n",
    "    \n",
    "    Y_vect=vect.transform(test[col].values.astype('U'))\n",
    "    b = pd.DataFrame(Y_vect.toarray(), columns=vect.get_feature_names(), index= test.index)\n",
    "    for column in b.columns:\n",
    "        b.rename(columns={column:'cv_{}'.format(column)}, inplace=True)\n",
    "    test = test.join(b)\n",
    "    reduce_mem_usage(test)\n",
    "    gc.collect()\n",
    "    print(col)"
   ]
  },
  {
   "cell_type": "code",
   "execution_count": null,
   "metadata": {},
   "outputs": [],
   "source": [
    "from sklearn.feature_extraction.text import TfidfVectorizer\n",
    "\n",
    "concat = pd.concat([df['CG1'],test['CG1']], ignore_index=True)\n",
    "vect = TfidfVectorizer(vocabulary = tflist)\n",
    "vect.fit(concat.values.astype('U'))\n",
    "\n",
    "Y_vect=vect.transform(test['CG1'].values.astype('U'))\n",
    "b = pd.DataFrame(Y_vect.toarray(), columns=vect.get_feature_names(), index= test.index)\n",
    "del Y_vect\n",
    "for column in b.columns:\n",
    "    b.rename(columns={column:'TF_{}'.format(column)}, inplace=True)\n",
    "test = test.join(b)\n",
    "reduce_mem_usage(test)\n",
    "print('Test done')\n",
    "gc.collect()"
   ]
  },
  {
   "cell_type": "code",
   "execution_count": null,
   "metadata": {},
   "outputs": [],
   "source": [
    "for d in [df,test]:\n",
    "    \n",
    "    d['time'] = pd.to_datetime(d['timestamp'],unit='s') #df['month'] = df['time'].dt.month #df['day'] = df['time'].dt.day #df['year'] = df['time'].dt.year\n",
    "    d['hour'] = d['time'].dt.hour\n",
    "    d['minute'] = d['time'].dt.minute\n",
    "    d['hourminute'] = round(d['hour'] + 5/3*d['minute']/100,2)\n",
    "    d.drop(columns=['minute','time'],axis=1, inplace=True)\n",
    "\n",
    "gc.collect()"
   ]
  },
  {
   "cell_type": "code",
   "execution_count": null,
   "metadata": {},
   "outputs": [],
   "source": [
    "df.drop(columns=['CG1','CG2','CG3'],axis=1, inplace=True)\n",
    "test.drop(columns=['CG1','CG2','CG3'],axis=1, inplace=True)\n",
    "gc.collect()"
   ]
  },
  {
   "cell_type": "code",
   "execution_count": null,
   "metadata": {},
   "outputs": [],
   "source": [
    "df = pd.get_dummies(df, columns = ['hour','C7','C11','C12'], dummy_na=True)\n",
    "test = pd.get_dummies(test, columns = ['hour','C7','C11','C12'], dummy_na=True)\n",
    "\n",
    "for col in df.columns:\n",
    "    if col not in test.columns:\n",
    "        test[col] = 0"
   ]
  },
  {
   "cell_type": "code",
   "execution_count": null,
   "metadata": {},
   "outputs": [],
   "source": [
    "features = list(df.columns)\n",
    "features.remove('label')\n",
    "target = 'label'"
   ]
  },
  {
   "cell_type": "markdown",
   "metadata": {},
   "source": [
    "### Boruta Feature Selection"
   ]
  },
  {
   "cell_type": "code",
   "execution_count": null,
   "metadata": {},
   "outputs": [],
   "source": [
    "df[features] = df[features].fillna(0)\n",
    "df[features] = df[features].replace([-np.inf, np.inf], [-9999, 9999])\n",
    "\n",
    "X = df[features].values\n",
    "Y = df['label'].values.ravel()\n",
    "gc.collect()\n",
    "del X,Y"
   ]
  },
  {
   "cell_type": "code",
   "execution_count": null,
   "metadata": {},
   "outputs": [],
   "source": [
    "from sklearn.ensemble import RandomForestClassifier\n",
    "from boruta import BorutaPy\n",
    "gc.collect()\n",
    "rfc = RandomForestClassifier(n_jobs=4, max_depth=5,min_samples_leaf=50, min_samples_split=100)\n",
    "boruta_feature_selector = BorutaPy(rfc, n_estimators=50, max_iter=15, alpha = 0.05)\n",
    "boruta_feature_selector.fit(df[features].values, df['label'].values.ravel())"
   ]
  },
  {
   "cell_type": "code",
   "execution_count": null,
   "metadata": {},
   "outputs": [],
   "source": [
    "selected = list(df[features].columns[boruta_feature_selector.support_])\n",
    "features = selected.copy()\n",
    "len(selected), selected"
   ]
  },
  {
   "cell_type": "code",
   "execution_count": null,
   "metadata": {},
   "outputs": [],
   "source": []
  },
  {
   "cell_type": "code",
   "execution_count": 46,
   "metadata": {},
   "outputs": [],
   "source": [
    "from sklearn.model_selection import train_test_split, KFold\n",
    "import xgboost as xgb\n",
    "n_fold = 5\n",
    "folds = KFold(n_fold)\n",
    "target = 'label'"
   ]
  },
  {
   "cell_type": "code",
   "execution_count": 47,
   "metadata": {},
   "outputs": [],
   "source": [
    "params = {'tree_method': 'gpu_hist',\n",
    " 'silent': 1,\n",
    " 'colsample_bytree': 0.9,\n",
    " 'subsample': 0.9,\n",
    " 'learning_rate': 0.001,\n",
    " 'max_leaves': 128,\n",
    " 'objective': 'binary:logistic',\n",
    " 'max_depth': 15,\n",
    " 'reg_alpha': 0.5,\n",
    " 'min_child_weight': 5,\n",
    " 'eval_metric': 'auc'}"
   ]
  },
  {
   "cell_type": "code",
   "execution_count": 48,
   "metadata": {},
   "outputs": [
    {
     "name": "stderr",
     "output_type": "stream",
     "text": [
      "C:\\Users\\Aleksandr\\Anaconda3\\lib\\site-packages\\xgboost\\core.py:587: FutureWarning: Series.base is deprecated and will be removed in a future version\n",
      "  if getattr(data, 'base', None) is not None and \\\n"
     ]
    },
    {
     "name": "stdout",
     "output_type": "stream",
     "text": [
      "[0]\tTrain-auc:0.898168\tVal-auc:0.922214\n",
      "Multiple eval metrics have been passed: 'Val-auc' will be used for early stopping.\n",
      "\n",
      "Will train until Val-auc hasn't improved in 100 rounds.\n",
      "[100]\tTrain-auc:0.93265\tVal-auc:0.941694\n",
      "[200]\tTrain-auc:0.971001\tVal-auc:0.971752\n",
      "[300]\tTrain-auc:0.97612\tVal-auc:0.97454\n",
      "[400]\tTrain-auc:0.979024\tVal-auc:0.976145\n",
      "[500]\tTrain-auc:0.981741\tVal-auc:0.977684\n",
      "[600]\tTrain-auc:0.982579\tVal-auc:0.978519\n",
      "[700]\tTrain-auc:0.983433\tVal-auc:0.979025\n",
      "[800]\tTrain-auc:0.984803\tVal-auc:0.979544\n",
      "[900]\tTrain-auc:0.985965\tVal-auc:0.979903\n",
      "[1000]\tTrain-auc:0.98667\tVal-auc:0.980019\n",
      "[1100]\tTrain-auc:0.98718\tVal-auc:0.983644\n",
      "[1200]\tTrain-auc:0.987768\tVal-auc:0.983791\n",
      "Stopping. Best iteration:\n",
      "[1161]\tTrain-auc:0.987585\tVal-auc:0.983935\n",
      "\n"
     ]
    },
    {
     "name": "stderr",
     "output_type": "stream",
     "text": [
      "C:\\Users\\Aleksandr\\Anaconda3\\lib\\site-packages\\ipykernel_launcher.py:25: RuntimeWarning: divide by zero encountered in true_divide\n"
     ]
    },
    {
     "name": "stdout",
     "output_type": "stream",
     "text": [
      "\n",
      "Fold  1 AUC 0.983858 & std 0.014083\n"
     ]
    },
    {
     "name": "stderr",
     "output_type": "stream",
     "text": [
      "C:\\Users\\Aleksandr\\Anaconda3\\lib\\site-packages\\xgboost\\core.py:587: FutureWarning: Series.base is deprecated and will be removed in a future version\n",
      "  if getattr(data, 'base', None) is not None and \\\n"
     ]
    },
    {
     "name": "stdout",
     "output_type": "stream",
     "text": [
      "[0]\tTrain-auc:0.929878\tVal-auc:0.885913\n",
      "Multiple eval metrics have been passed: 'Val-auc' will be used for early stopping.\n",
      "\n",
      "Will train until Val-auc hasn't improved in 100 rounds.\n",
      "[100]\tTrain-auc:0.941493\tVal-auc:0.920851\n",
      "Stopping. Best iteration:\n",
      "[75]\tTrain-auc:0.942426\tVal-auc:0.922352\n",
      "\n",
      "\n",
      "Fold  2 AUC 0.920540 & std 0.002934\n"
     ]
    },
    {
     "name": "stderr",
     "output_type": "stream",
     "text": [
      "C:\\Users\\Aleksandr\\Anaconda3\\lib\\site-packages\\xgboost\\core.py:587: FutureWarning: Series.base is deprecated and will be removed in a future version\n",
      "  if getattr(data, 'base', None) is not None and \\\n"
     ]
    },
    {
     "name": "stdout",
     "output_type": "stream",
     "text": [
      "[0]\tTrain-auc:0.90807\tVal-auc:0.883773\n",
      "Multiple eval metrics have been passed: 'Val-auc' will be used for early stopping.\n",
      "\n",
      "Will train until Val-auc hasn't improved in 100 rounds.\n",
      "[100]\tTrain-auc:0.933274\tVal-auc:0.907115\n",
      "[200]\tTrain-auc:0.941328\tVal-auc:0.909166\n",
      "Stopping. Best iteration:\n",
      "[126]\tTrain-auc:0.94122\tVal-auc:0.909253\n",
      "\n",
      "\n",
      "Fold  3 AUC 0.909221 & std 0.003440\n"
     ]
    },
    {
     "name": "stderr",
     "output_type": "stream",
     "text": [
      "C:\\Users\\Aleksandr\\Anaconda3\\lib\\site-packages\\xgboost\\core.py:587: FutureWarning: Series.base is deprecated and will be removed in a future version\n",
      "  if getattr(data, 'base', None) is not None and \\\n"
     ]
    },
    {
     "name": "stdout",
     "output_type": "stream",
     "text": [
      "[0]\tTrain-auc:0.918353\tVal-auc:0.917542\n",
      "Multiple eval metrics have been passed: 'Val-auc' will be used for early stopping.\n",
      "\n",
      "Will train until Val-auc hasn't improved in 100 rounds.\n",
      "[100]\tTrain-auc:0.931393\tVal-auc:0.937791\n",
      "Stopping. Best iteration:\n",
      "[32]\tTrain-auc:0.931104\tVal-auc:0.940103\n",
      "\n",
      "\n",
      "Fold  4 AUC 0.937909 & std 0.002159\n"
     ]
    },
    {
     "name": "stderr",
     "output_type": "stream",
     "text": [
      "C:\\Users\\Aleksandr\\Anaconda3\\lib\\site-packages\\xgboost\\core.py:587: FutureWarning: Series.base is deprecated and will be removed in a future version\n",
      "  if getattr(data, 'base', None) is not None and \\\n"
     ]
    },
    {
     "name": "stdout",
     "output_type": "stream",
     "text": [
      "[0]\tTrain-auc:0.91091\tVal-auc:0.912994\n",
      "Multiple eval metrics have been passed: 'Val-auc' will be used for early stopping.\n",
      "\n",
      "Will train until Val-auc hasn't improved in 100 rounds.\n",
      "[100]\tTrain-auc:0.937973\tVal-auc:0.924295\n",
      "Stopping. Best iteration:\n",
      "[77]\tTrain-auc:0.938195\tVal-auc:0.924783\n",
      "\n",
      "\n",
      "Fold  5 AUC 0.924395 & std 0.003094\n",
      "\n",
      "CV AUC score 0.700887 & std 0.110996\n"
     ]
    }
   ],
   "source": [
    "oof_preds = np.zeros(df.shape[0])\n",
    "sub_preds = np.zeros(test.shape[0])\n",
    "\n",
    "y_train = df['label'].copy()\n",
    "train_cols = list(df.columns)\n",
    "train_cols.remove('label')\n",
    "feature_importance_df = pd.DataFrame()\n",
    "\n",
    "for n_fold, (trn_idx, val_idx) in enumerate(folds.split(df, y_train)):\n",
    "    \n",
    "    trn_x, trn_y = df[train_cols].iloc[trn_idx], y_train.iloc[trn_idx]\n",
    "    val_x, val_y = df[train_cols].iloc[val_idx], y_train.iloc[val_idx]\n",
    "    \n",
    "    gc.collect()\n",
    "    \n",
    "    dtrain = xgb.DMatrix(trn_x, trn_y, feature_names=trn_x.columns)\n",
    "    dval = xgb.DMatrix(val_x, val_y, feature_names=val_x.columns)\n",
    "    gc.collect()\n",
    "    \n",
    "    clf = xgb.train(params=params, dtrain=dtrain, num_boost_round=5000, evals=[(dtrain, \"Train\"), (dval, \"Val\")],\n",
    "        verbose_eval= 100, early_stopping_rounds=100)\n",
    "    gc.collect()\n",
    "    \n",
    "    oof_preds[val_idx] = clf.predict(xgb.DMatrix(val_x))\n",
    "    sub_preds += clf.predict(xgb.DMatrix(test[train_cols])) / n_fold\n",
    "    \n",
    "    gc.collect()\n",
    "    \n",
    "    #xgbfir.saveXgbFI(clf, feature_names=trn_x.columns, OutputXlsxFile='ieee_xgbfir_%sFold.xlsx'%str(n_fold+1), MaxInteractionDepth=9, MaxHistograms=15)\n",
    "    \n",
    "    fold_importance_df = pd.DataFrame()\n",
    "    fold_importance_df[\"feature\"] = pd.DataFrame.from_dict(data=clf.get_fscore(), orient=\"index\", columns=[\"FScore\"])[\"FScore\"].index\n",
    "    fold_importance_df[\"fscore\"] = pd.DataFrame.from_dict(data=clf.get_fscore(), orient=\"index\", columns=[\"FScore\"])[\"FScore\"].values\n",
    "    fold_importance_df[\"fold\"] = n_fold + 1\n",
    "    feature_importance_df = pd.concat([feature_importance_df, fold_importance_df], axis=0)\n",
    "    gc.collect()\n",
    "    \n",
    "    print('\\nFold %2d AUC %.6f & std %.6f' %(n_fold + 1, roc_auc_score(val_y, oof_preds[val_idx]), np.std([oof_preds[val_idx]])))\n",
    "    \n",
    "    gc.collect()\n",
    "    \n",
    "print('\\nCV AUC score %.6f & std %.6f' % (roc_auc_score(y_train, oof_preds), np.std((oof_preds))))"
   ]
  },
  {
   "cell_type": "code",
   "execution_count": 57,
   "metadata": {},
   "outputs": [
    {
     "data": {
      "image/png": "[encoded data removed]",
      "text/plain": [
       "<Figure size 720x1080 with 1 Axes>"
      ]
     },
     "metadata": {},
     "output_type": "display_data"
    }
   ],
   "source": [
    "import seaborn as sns\n",
    "import matplotlib.pyplot as plt\n",
    "%matplotlib inline\n",
    "plt.style.use('dark_background')\n",
    "cols = (feature_importance_df[[\"feature\", \"fscore\"]]\n",
    "    .groupby(\"feature\")\n",
    "    .mean()\n",
    "    .sort_values(by=\"fscore\", ascending=False)[:80].index)\n",
    "best_features = feature_importance_df.loc[feature_importance_df.feature.isin(cols)]\n",
    "\n",
    "plt.figure(figsize=(10,15))\n",
    "sns.barplot(x=\"fscore\", y=\"feature\", data=best_features.sort_values(by=\"fscore\",ascending=False),\n",
    "        edgecolor=('white'), linewidth=2, palette=\"rocket\")\n",
    "plt.title('CB Features importance (averaged/folds)', fontsize=18)\n",
    "plt.tight_layout()"
   ]
  },
  {
   "cell_type": "code",
   "execution_count": null,
   "metadata": {},
   "outputs": [],
   "source": [
    "subs = pd.read_csv('sample_submission.csv', names=['label'], header=None)[:1317220]\n",
    "subs['label'] = sub_preds\n",
    "subs.to_csv('finalsubmit.csv',header=False,index=False)\n",
    "print('done')"
   ]
  }
 ],
 "metadata": {
  "kernelspec": {
   "display_name": "Python 3",
   "language": "python",
   "name": "python3"
  },
  "language_info": {
   "codemirror_mode": {
    "name": "ipython",
    "version": 3
   },
   "file_extension": ".py",
   "mimetype": "text/x-python",
   "name": "python",
   "nbconvert_exporter": "python",
   "pygments_lexer": "ipython3",
   "version": "3.7.3"
  }
 },
 "nbformat": 4,
 "nbformat_minor": 2
}
